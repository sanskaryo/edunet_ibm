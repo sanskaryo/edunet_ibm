{
 "cells": [
  {
   "cell_type": "code",
   "execution_count": null,
   "id": "1f7dc86a",
   "metadata": {},
   "outputs": [],
   "source": [
    "import pandas as pd\n",
    "import numpy as np\n",
    "import matplotlib.pyplot as plt\n",
    "import seaborn as sns"
   ]
  },
  {
   "cell_type": "code",
   "execution_count": null,
   "id": "a56a418e",
   "metadata": {},
   "outputs": [],
   "source": [
    "df = pd.read_csv(\"iris.csv\")\n",
    "df"
   ]
  },
  {
   "cell_type": "code",
   "execution_count": null,
   "id": "7efe0303",
   "metadata": {},
   "outputs": [],
   "source": [
    "df.isna().sum()"
   ]
  },
  {
   "cell_type": "code",
   "execution_count": null,
   "id": "8a27413b",
   "metadata": {},
   "outputs": [],
   "source": [
    "df.info()"
   ]
  },
  {
   "cell_type": "code",
   "execution_count": null,
   "id": "4bd0f4dc",
   "metadata": {},
   "outputs": [],
   "source": [
    "df.describe()"
   ]
  },
  {
   "cell_type": "code",
   "execution_count": null,
   "id": "89471009",
   "metadata": {},
   "outputs": [],
   "source": [
    "sns.pairplot(df,hue='species')"
   ]
  },
  {
   "cell_type": "code",
   "execution_count": null,
   "id": "33b1bd9e",
   "metadata": {},
   "outputs": [],
   "source": [
    "sns.countplot(x = df['species'])"
   ]
  },
  {
   "cell_type": "code",
   "execution_count": null,
   "id": "e44477ae",
   "metadata": {},
   "outputs": [],
   "source": [
    "df['species'].value_counts()"
   ]
  },
  {
   "cell_type": "code",
   "execution_count": null,
   "id": "0ac90faa",
   "metadata": {},
   "outputs": [],
   "source": [
    "from sklearn.preprocessing import LabelEncoder\n",
    "encoder = LabelEncoder()\n",
    "df['species'] = encoder.fit_transform(df['species'])"
   ]
  },
  {
   "cell_type": "code",
   "execution_count": null,
   "id": "64fd2b28",
   "metadata": {},
   "outputs": [],
   "source": [
    "df"
   ]
  },
  {
   "cell_type": "code",
   "execution_count": null,
   "id": "30326227",
   "metadata": {},
   "outputs": [],
   "source": [
    "df['species'].value_counts()"
   ]
  },
  {
   "cell_type": "code",
   "execution_count": null,
   "id": "9bea8324",
   "metadata": {},
   "outputs": [],
   "source": [
    "corr = df.corr()\n",
    "corr"
   ]
  },
  {
   "cell_type": "code",
   "execution_count": null,
   "id": "a97d66da",
   "metadata": {},
   "outputs": [],
   "source": [
    "sns.heatmap(corr,annot=True)"
   ]
  },
  {
   "cell_type": "code",
   "execution_count": null,
   "id": "2a2b2f03",
   "metadata": {},
   "outputs": [],
   "source": [
    "X = df.drop('species',axis=1)\n",
    "y = df['species']"
   ]
  },
  {
   "cell_type": "code",
   "execution_count": null,
   "id": "a35abf72",
   "metadata": {},
   "outputs": [],
   "source": [
    "from sklearn.model_selection import train_test_split\n",
    "X_train, X_test, y_train, y_test = train_test_split(X,y,test_size=0.2,random_state=2)"
   ]
  },
  {
   "cell_type": "code",
   "execution_count": null,
   "id": "ac9e04f4",
   "metadata": {},
   "outputs": [],
   "source": [
    "from sklearn.neighbors import KNeighborsClassifier\n",
    "knn = KNeighborsClassifier(n_neighbors = 3)\n",
    "knn.fit(X_train,y_train)"
   ]
  },
  {
   "cell_type": "code",
   "execution_count": null,
   "id": "660371f6",
   "metadata": {},
   "outputs": [],
   "source": [
    "y_pred = knn.predict(X_test)\n",
    "y_pred"
   ]
  },
  {
   "cell_type": "code",
   "execution_count": null,
   "id": "56eafb6d",
   "metadata": {},
   "outputs": [],
   "source": [
    "from sklearn.metrics import classification_report,accuracy_score,confusion_matrix\n",
    "print(classification_report(y_pred,y_test))"
   ]
  },
  {
   "cell_type": "code",
   "execution_count": null,
   "id": "48d5d36b",
   "metadata": {},
   "outputs": [],
   "source": [
    "accuracy_score(y_pred,y_test)"
   ]
  },
  {
   "cell_type": "code",
   "execution_count": null,
   "id": "3e5a2026",
   "metadata": {},
   "outputs": [],
   "source": [
    "cm = confusion_matrix(y_pred,y_test)\n",
    "cm"
   ]
  },
  {
   "cell_type": "code",
   "execution_count": null,
   "id": "98d5565d",
   "metadata": {},
   "outputs": [],
   "source": [
    "sns.heatmap(cm,annot=True)"
   ]
  },
  {
   "cell_type": "markdown",
   "id": "960f34f1",
   "metadata": {},
   "source": [
    "# Classification Report"
   ]
  },
  {
   "cell_type": "markdown",
   "id": "8bdae656",
   "metadata": {},
   "source": [
    "# Precision:\n",
    "Precision measures the accuracy of the positive predictions made by the model.\n",
    "\n",
    "Precision = TP / (TP + FP)\n",
    "\n",
    "It's the ratio of true positive predictions to the total number of instances predicted as positive."
   ]
  },
  {
   "cell_type": "markdown",
   "id": "c8d1f819",
   "metadata": {},
   "source": [
    "### Recall (Sensitivity):\n",
    "Recall measures the model's ability to correctly identify positive instances.\n",
    "\n",
    "Recall = TP / (TP + FN)\n",
    "\n",
    "It's the ratio of true positive predictions to the total number of actual positive instances."
   ]
  },
  {
   "cell_type": "markdown",
   "id": "299c965e",
   "metadata": {},
   "source": [
    "### F1-Score:\n",
    "F1-Score is the harmonic mean of precision and recall, providing a balance between the two metrics.\n",
    "\n",
    "F1-Score = 2 * (Precision * Recall) / (Precision + Recall)\n",
    "\n",
    "It gives more weight to lower values, making it sensitive to imbalances between precision and recall."
   ]
  },
  {
   "cell_type": "markdown",
   "id": "c417761b",
   "metadata": {},
   "source": [
    "### Support:\n",
    "Support simply refers to the number of instances in each class."
   ]
  },
  {
   "cell_type": "markdown",
   "id": "799cf85c",
   "metadata": {},
   "source": [
    "## Accuracy:\n",
    "accuracy = (TP + TN) / (TP + FP + TN + FN)"
   ]
  },
  {
   "cell_type": "code",
   "execution_count": null,
   "id": "cb0c7ef9",
   "metadata": {},
   "outputs": [],
   "source": []
  }
 ],
 "metadata": {
  "kernelspec": {
   "display_name": "Python 3 (ipykernel)",
   "language": "python",
   "name": "python3"
  },
  "language_info": {
   "codemirror_mode": {
    "name": "ipython",
    "version": 3
   },
   "file_extension": ".py",
   "mimetype": "text/x-python",
   "name": "python",
   "nbconvert_exporter": "python",
   "pygments_lexer": "ipython3",
   "version": "3.9.7"
  }
 },
 "nbformat": 4,
 "nbformat_minor": 5
}
